{
 "cells": [
  {
   "cell_type": "markdown",
   "metadata": {},
   "source": [
    "## Ejemplo 2: Modificando listas\n",
    "---\n",
    "### 1. Objetivos:\n",
    "    - Conocer algunos de los métodos básicos que tenemos para modificar listas\n",
    "     \n",
    "### 2. Desarrollo:"
   ]
  },
  {
   "cell_type": "markdown",
   "metadata": {},
   "source": [
    "**Append**\n",
    "\n",
    "`lista.append(nuevo valor)` agrega el *nuevo valor* al final de la lista"
   ]
  },
  {
   "cell_type": "markdown",
   "metadata": {},
   "source": [
    "Dada una lista con elementos agregar un nuevo e imprimir la nueva lista"
   ]
  },
  {
   "cell_type": "code",
   "execution_count": 3,
   "metadata": {},
   "outputs": [
    {
     "data": {
      "text/plain": [
       "[1, 2, 3, 4, 5, 6, 7]"
      ]
     },
     "execution_count": 3,
     "metadata": {},
     "output_type": "execute_result"
    }
   ],
   "source": [
    "lista_1 = [1, 2, 3, 4, 5, 6]\n",
    "lista_1.append(7)\n",
    "lista_1"
   ]
  },
  {
   "cell_type": "markdown",
   "metadata": {},
   "source": [
    "Otro caso muy común es una lista vacía agregar un o más elementos e imprimir la lista resultante"
   ]
  },
  {
   "cell_type": "code",
   "execution_count": 2,
   "metadata": {},
   "outputs": [
    {
     "data": {
      "text/plain": [
       "['uno', 'dos', 'tres']"
      ]
     },
     "execution_count": 2,
     "metadata": {},
     "output_type": "execute_result"
    }
   ],
   "source": [
    "lista_2 = []\n",
    "lista_2.append(\"uno\")\n",
    "lista_2 += [\"dos\", \"tres\"]\n",
    "lista_2\n"
   ]
  },
  {
   "cell_type": "markdown",
   "metadata": {},
   "source": [
    "Finalmente podemos agregar listas u otros objetos de Python, por ejemplo para crear una nueva lista a partir de otra seleccionando sólo algunos elementos"
   ]
  },
  {
   "cell_type": "code",
   "execution_count": 7,
   "metadata": {},
   "outputs": [
    {
     "data": {
      "text/plain": [
       "[['Baja California', 3760020],\n",
       " ['Ciudad de México', 9209944],\n",
       " ['Chihuahua', 3741869]]"
      ]
     },
     "execution_count": 7,
     "metadata": {},
     "output_type": "execute_result"
    }
   ],
   "source": [
    "estados_poblacion = [\n",
    "    [\"Aguascalientes\", 1425007],\n",
    "    [\"Baja California\", 3760020],\n",
    "    [\"Baja California Sur\", 798447],\n",
    "    [\"Ciudad de México\", 9209944],\n",
    "    [\"Chihuahua\", 3741869],\n",
    "    [\"Colima\", None]\n",
    "]\n",
    "\n",
    "estados_con_mas_3_millones = []\n",
    "estados_con_mas_3_millones.append(estados_poblacion[1])\n",
    "estados_con_mas_3_millones.append(estados_poblacion[3])\n",
    "estados_con_mas_3_millones.append(estados_poblacion[4])\n",
    "estados_con_mas_3_millones"
   ]
  },
  {
   "cell_type": "markdown",
   "metadata": {},
   "source": [
    "**Pop**\n",
    "\n",
    "`lista.pop([índice])` remueve el último elemento de la lista si lo llamamos sin argumentos o el elemento en la posición indicado por *índice*. **Advertencia**, esta acción altera la lista original y no es posible recuperar los valores eliminados."
   ]
  },
  {
   "cell_type": "markdown",
   "metadata": {},
   "source": [
    "De la lista de estados elimina el estado de Colima que no tiene un valor de población e imprime la lista de estados resultante."
   ]
  },
  {
   "cell_type": "code",
   "execution_count": 8,
   "metadata": {},
   "outputs": [
    {
     "data": {
      "text/plain": [
       "[['Aguascalientes', 1425007],\n",
       " ['Baja California', 3760020],\n",
       " ['Baja California Sur', 798447],\n",
       " ['Ciudad de México', 9209944],\n",
       " ['Chihuahua', 3741869]]"
      ]
     },
     "execution_count": 8,
     "metadata": {},
     "output_type": "execute_result"
    }
   ],
   "source": [
    "estados_poblacion.pop(5)\n",
    "estados_poblacion"
   ]
  },
  {
   "cell_type": "markdown",
   "metadata": {},
   "source": [
    "Ahora de la lista `estados_con_mas_3_millones` elimina los estados con 9 o más millones e imprime la lista resultante"
   ]
  },
  {
   "cell_type": "code",
   "execution_count": 9,
   "metadata": {},
   "outputs": [
    {
     "data": {
      "text/plain": [
       "[['Baja California', 3760020], ['Chihuahua', 3741869]]"
      ]
     },
     "execution_count": 9,
     "metadata": {},
     "output_type": "execute_result"
    }
   ],
   "source": [
    "estados_con_mas_3_millones.pop(1)\n",
    "estados_con_mas_3_millones"
   ]
  },
  {
   "cell_type": "markdown",
   "metadata": {},
   "source": [
    "Elimina el último elemento de la siguiente lista"
   ]
  },
  {
   "cell_type": "code",
   "execution_count": 11,
   "metadata": {},
   "outputs": [
    {
     "ename": "IndexError",
     "evalue": "pop from empty list",
     "output_type": "error",
     "traceback": [
      "\u001b[0;31m---------------------------------------------------------------------------\u001b[0m",
      "\u001b[0;31mIndexError\u001b[0m                                Traceback (most recent call last)",
      "\u001b[0;32m<ipython-input-11-b267525fcdcf>\u001b[0m in \u001b[0;36m<module>\u001b[0;34m\u001b[0m\n\u001b[1;32m      1\u001b[0m \u001b[0mlista_vacia\u001b[0m \u001b[0;34m=\u001b[0m \u001b[0;34m[\u001b[0m\u001b[0;34m]\u001b[0m\u001b[0;34m\u001b[0m\u001b[0;34m\u001b[0m\u001b[0m\n\u001b[1;32m      2\u001b[0m \u001b[0;34m\u001b[0m\u001b[0m\n\u001b[0;32m----> 3\u001b[0;31m \u001b[0mlista_vacia\u001b[0m\u001b[0;34m.\u001b[0m\u001b[0mpop\u001b[0m\u001b[0;34m(\u001b[0m\u001b[0;36m1\u001b[0m\u001b[0;34m)\u001b[0m\u001b[0;34m\u001b[0m\u001b[0;34m\u001b[0m\u001b[0m\n\u001b[0m",
      "\u001b[0;31mIndexError\u001b[0m: pop from empty list"
     ]
    }
   ],
   "source": [
    "lista_vacia = []\n",
    "\n",
    "lista_vacia.pop(1)"
   ]
  },
  {
   "cell_type": "markdown",
   "metadata": {},
   "source": [
    "**sort**\n",
    "\n",
    "`lista.sort([reverse=False)` ordena los elementos de la lista de forma ascendente o descendente si `reverse=True`. **Advertencia**, esta acción modifica la lista original, así que el orden origina de los elementos se perderá. "
   ]
  },
  {
   "cell_type": "markdown",
   "metadata": {},
   "source": [
    "Ordena en ascendente y descendente la lista de estados e imprime la listas resultantes. Las preguntas capciosas se resolverán en la sesiones siguientes"
   ]
  },
  {
   "cell_type": "code",
   "execution_count": 12,
   "metadata": {},
   "outputs": [
    {
     "data": {
      "text/plain": [
       "[['Aguascalientes', 1425007],\n",
       " ['Baja California', 3760020],\n",
       " ['Baja California Sur', 798447],\n",
       " ['Chihuahua', 3741869],\n",
       " ['Ciudad de México', 9209944]]"
      ]
     },
     "execution_count": 12,
     "metadata": {},
     "output_type": "execute_result"
    }
   ],
   "source": [
    "estados_poblacion.sort()\n",
    "estados_poblacion"
   ]
  },
  {
   "cell_type": "code",
   "execution_count": 13,
   "metadata": {},
   "outputs": [
    {
     "data": {
      "text/plain": [
       "[['Ciudad de México', 9209944],\n",
       " ['Chihuahua', 3741869],\n",
       " ['Baja California Sur', 798447],\n",
       " ['Baja California', 3760020],\n",
       " ['Aguascalientes', 1425007]]"
      ]
     },
     "execution_count": 13,
     "metadata": {},
     "output_type": "execute_result"
    }
   ],
   "source": [
    "estados_poblacion.sort(reverse=True)\n",
    "estados_poblacion"
   ]
  },
  {
   "cell_type": "markdown",
   "metadata": {},
   "source": [
    "¡Practiquemos ahora con un segundo reto!\n",
    "\n",
    "---"
   ]
  },
  {
   "cell_type": "markdown",
   "metadata": {},
   "source": [
    "## Reto 2: Modificando listas\n",
    "\n",
    "### 1. Objetivos:\n",
    "    - Practicar el uso de algunos métodos de listas\n",
    " \n",
    "---\n",
    "    \n",
    "### 2. Desarrollo:"
   ]
  },
  {
   "cell_type": "markdown",
   "metadata": {},
   "source": [
    "#### a) Eliminando diferencias\n",
    "\n",
    "Debajo tienes dos listas definidas, primero elimina los elementos de la `lista_2` que no estén en `lista_1` usando `pop()`, entonces agrega al final de `lista_2` los elementos que faltan para que sea igual a `lista_1` usando `append()`. **Nota** sólo puedes modificar la `lista_2`."
   ]
  },
  {
   "cell_type": "code",
   "execution_count": 15,
   "metadata": {},
   "outputs": [
    {
     "name": "stdout",
     "output_type": "stream",
     "text": [
      "[3.4, 0.7, 99.9, 5.41, 6.23, 7.9]\n",
      "[3.4, 0.7, 99.9, 5.41, 6.23, 7.9]\n"
     ]
    }
   ],
   "source": [
    "lista_1 = [3.4, 0.7, 99.9, 5.41, 6.23, 7.9]\n",
    "lista_2 = [3.4, 63.4, 0.7, 6.46, 99.9, 2.2, 5.41]\n",
    "\n",
    "# Tu código va aquí\n",
    "lista_2.pop(1)\n",
    "lista_2.pop(2)\n",
    "lista_2.pop(3)\n",
    "lista_2.append(6.23)\n",
    "lista_2.append(7.9)\n",
    "print(lista_1)\n",
    "print(lista_2)\n"
   ]
  },
  {
   "cell_type": "markdown",
   "metadata": {},
   "source": [
    "Ahora, la siguiente sentencia `if` es tu función de validación, ejecútala para comprobar si ambas listas son iguales."
   ]
  },
  {
   "cell_type": "code",
   "execution_count": 16,
   "metadata": {},
   "outputs": [
    {
     "name": "stdout",
     "output_type": "stream",
     "text": [
      "¡La listas son iguales, bien hecho!\n"
     ]
    }
   ],
   "source": [
    "if lista_1 == lista_2:\n",
    "    print(\"¡La listas son iguales, bien hecho!\")\n",
    "else:\n",
    "    print(\"Error: las listas no son iguales, intenta de nuevo!\")"
   ]
  },
  {
   "cell_type": "markdown",
   "metadata": {},
   "source": [
    "#### b) Ordenando palabras\n",
    "\n",
    "Debajo hay un fragmento del capítulo 68 de la novela \"Rayuela\" de Julio Cortázar ([Lo puedes leer aquí](https://ciudadseva.com/texto/rayuela-capitulo-68/)) contenido en la variable `fragmento_texto`."
   ]
  },
  {
   "cell_type": "code",
   "execution_count": 17,
   "metadata": {},
   "outputs": [
    {
     "data": {
      "text/plain": [
       "'Apenas él le amalaba el noema, a ella se le agolpaba el clémiso y caían en hidromurias, en salvajes ambonios, en sustalos exasperantes. Cada vez que él procuraba relamar las incopelusas, se enredaba en un grimado quejumbroso y tenía que envulsionarse de cara al nóvalo, sintiendo cómo poco a poco las arnillas se espejunaban, se iban apeltronando, reduplimiendo, hasta quedar tendido como el trimalciato de ergomanina al que se le han dejado caer unas fílulas de cariaconcia. Y sin embargo era apenas el principio, porque en un momento dado ella se tordulaba los hurgalios, consintiendo en que él aproximara suavemente sus orfelunios. Apenas se entreplumaban, algo como un ulucordio los encrestoriaba, los extrayuxtaba y paramovía, de pronto era el clinón, la esterfurosa convulcante de las mátricas, la jadehollante embocapluvia del orgumio, los esproemios del merpasmo en una sobrehumítica agopausa. ¡Evohé! ¡Evohé! Volposados en la cresta del murelio, se sentían balpamar, perlinos y márulos. Temblaba el troc, se vencían las marioplumas, y todo se resolviraba en un profundo pínice, en niolamas de argutendidas gasas, en carinias casi crueles que los ordopenaban hasta el límite de las gunfias.'"
      ]
     },
     "execution_count": 17,
     "metadata": {},
     "output_type": "execute_result"
    }
   ],
   "source": [
    "fragmento_texto = \"Apenas él le amalaba el noema, a ella se le agolpaba el clémiso y caían en hidromurias, en salvajes ambonios, en sustalos exasperantes. Cada vez que él procuraba relamar las incopelusas, se enredaba en un grimado quejumbroso y tenía que envulsionarse de cara al nóvalo, sintiendo cómo poco a poco las arnillas se espejunaban, se iban apeltronando, reduplimiendo, hasta quedar tendido como el trimalciato de ergomanina al que se le han dejado caer unas fílulas de cariaconcia. Y sin embargo era apenas el principio, porque en un momento dado ella se tordulaba los hurgalios, consintiendo en que él aproximara suavemente sus orfelunios. Apenas se entreplumaban, algo como un ulucordio los encrestoriaba, los extrayuxtaba y paramovía, de pronto era el clinón, la esterfurosa convulcante de las mátricas, la jadehollante embocapluvia del orgumio, los esproemios del merpasmo en una sobrehumítica agopausa. ¡Evohé! ¡Evohé! Volposados en la cresta del murelio, se sentían balpamar, perlinos y márulos. Temblaba el troc, se vencían las marioplumas, y todo se resolviraba en un profundo pínice, en niolamas de argutendidas gasas, en carinias casi crueles que los ordopenaban hasta el límite de las gunfias.\"\n",
    "fragmento_texto"
   ]
  },
  {
   "cell_type": "markdown",
   "metadata": {},
   "source": [
    "Primero tu reto consiste en convertir esta variable de tipo `str` a una lista de palabras, para ello puedes hacer uso de la función de cadenas `str.split(-separador-)`, donde `separador` es el símbolo utilizado para separar el texto, pero si no se indica se usa el espacio en blanco. El resultado guárdalo en la variable `fragmento_lista`."
   ]
  },
  {
   "cell_type": "code",
   "execution_count": 21,
   "metadata": {},
   "outputs": [],
   "source": [
    "fragmento_lista = fragmento_texto.split()"
   ]
  },
  {
   "cell_type": "markdown",
   "metadata": {},
   "source": [
    "Ahora imprime las palabras en la lista `fragmento_lista` ordenadas descendentemente. **Sugerencia**, utiliza `print()` para imprimir tu resultdo."
   ]
  },
  {
   "cell_type": "code",
   "execution_count": 27,
   "metadata": {},
   "outputs": [
    {
     "name": "stdout",
     "output_type": "stream",
     "text": [
      "['él', 'él', 'él', '¡Evohé!', '¡Evohé!', 'y', 'y', 'y', 'y', 'y', 'vez', 'vencían', 'unas', 'una', 'un', 'un', 'un', 'un', 'ulucordio', 'troc,', 'trimalciato', 'tordulaba', 'todo', 'tenía', 'tendido', 'sustalos', 'sus', 'suavemente', 'sobrehumítica', 'sintiendo', 'sin', 'sentían', 'se', 'se', 'se', 'se', 'se', 'se', 'se', 'se', 'se', 'se', 'salvajes', 'resolviraba', 'relamar', 'reduplimiendo,', 'quejumbroso', 'quedar', 'que', 'que', 'que', 'que', 'que', 'pínice,', 'pronto', 'profundo', 'procuraba', 'principio,', 'porque', 'poco', 'poco', 'perlinos', 'paramovía,', 'orgumio,', 'orfelunios.', 'ordopenaban', 'nóvalo,', 'noema,', 'niolamas', 'mátricas,', 'márulos.', 'murelio,', 'momento', 'merpasmo', 'marioplumas,', 'límite', 'los', 'los', 'los', 'los', 'los', 'le', 'le', 'le', 'las', 'las', 'las', 'las', 'las', 'la', 'la', 'la', 'jadehollante', 'incopelusas,', 'iban', 'hurgalios,', 'hidromurias,', 'hasta', 'hasta', 'han', 'gunfias.', 'grimado', 'gasas,', 'fílulas', 'extrayuxtaba', 'exasperantes.', 'esterfurosa', 'esproemios', 'espejunaban,', 'ergomanina', 'era', 'era', 'envulsionarse', 'entreplumaban,', 'enredaba', 'encrestoriaba,', 'en', 'en', 'en', 'en', 'en', 'en', 'en', 'en', 'en', 'en', 'en', 'embocapluvia', 'embargo', 'ella', 'ella', 'el', 'el', 'el', 'el', 'el', 'el', 'el', 'del', 'del', 'del', 'dejado', 'de', 'de', 'de', 'de', 'de', 'de', 'de', 'dado', 'cómo', 'crueles', 'cresta', 'convulcante', 'consintiendo', 'como', 'como', 'clémiso', 'clinón,', 'caían', 'casi', 'carinias', 'cariaconcia.', 'cara', 'caer', 'balpamar,', 'arnillas', 'argutendidas', 'aproximara', 'apenas', 'apeltronando,', 'ambonios,', 'amalaba', 'algo', 'al', 'al', 'agopausa.', 'agolpaba', 'a', 'a', 'Y', 'Volposados', 'Temblaba', 'Cada', 'Apenas', 'Apenas']\n"
     ]
    }
   ],
   "source": [
    "# descendente\n",
    "fragmento_lista.sort(reverse=True)\n",
    "print(fragmento_lista)"
   ]
  },
  {
   "cell_type": "markdown",
   "metadata": {},
   "source": [
    "La siguiente celda es de validación y la puedes ejecutar para ver si tu resultado es el correcto!"
   ]
  },
  {
   "cell_type": "code",
   "execution_count": 28,
   "metadata": {},
   "outputs": [
    {
     "name": "stdout",
     "output_type": "stream",
     "text": [
      "Yeaaaa! Bien hecho!\n"
     ]
    }
   ],
   "source": [
    "import hashlib\n",
    "\n",
    "fragmento_bytes = \"\".join(fragmento_lista).encode(\"utf-8\")\n",
    "if hashlib.md5(fragmento_bytes).hexdigest() == \"b95c4aa5e21418912fa34be4c9f25422\":\n",
    "    print(\"Yeaaaa! Bien hecho!\")\n",
    "else:\n",
    "    print(\"Error: la lista resultante no es la esperada\")"
   ]
  }
 ],
 "metadata": {
  "kernelspec": {
   "display_name": "Python 3",
   "language": "python",
   "name": "python3"
  },
  "language_info": {
   "codemirror_mode": {
    "name": "ipython",
    "version": 3
   },
   "file_extension": ".py",
   "mimetype": "text/x-python",
   "name": "python",
   "nbconvert_exporter": "python",
   "pygments_lexer": "ipython3",
   "version": "3.8.2"
  }
 },
 "nbformat": 4,
 "nbformat_minor": 4
}
