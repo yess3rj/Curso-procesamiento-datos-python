{
 "cells": [
  {
   "cell_type": "markdown",
   "metadata": {},
   "source": [
    "## Ejemplo 1: Listas\n",
    "\n",
    "### 1. Objetivos:\n",
    "    - Entender la sintaxis de las listas en Python\n",
    "    - Aprender a crear listas y accesarlas\n",
    " \n",
    "---\n",
    "    \n",
    "### 2. Desarrollo:"
   ]
  },
  {
   "cell_type": "markdown",
   "metadata": {},
   "source": [
    "#### Creando listas y accediendo a ellas\n",
    "\n",
    "Las listas son secuencias ordenadas de datos. El orden de los datos en la lista es el mismo orden que tienen los datos a la hora de ser asignados a la lista. Una lista se ve así:"
   ]
  },
  {
   "cell_type": "code",
   "execution_count": 1,
   "metadata": {},
   "outputs": [
    {
     "data": {
      "text/plain": [
       "[1, 4, 6, 2, 4]"
      ]
     },
     "execution_count": 1,
     "metadata": {},
     "output_type": "execute_result"
    }
   ],
   "source": [
    "lista_1 = [1, 4, 6, 2, 4]\n",
    "lista_1"
   ]
  },
  {
   "cell_type": "code",
   "execution_count": 2,
   "metadata": {},
   "outputs": [
    {
     "data": {
      "text/plain": [
       "[]"
      ]
     },
     "execution_count": 2,
     "metadata": {},
     "output_type": "execute_result"
    }
   ],
   "source": [
<<<<<<< HEAD
    "lista_vacia = []\n",
    "lista_vacia"
=======
    "lista_1 = "
>>>>>>> 32cbad731d0c849ff565266de16a63785eee436c
   ]
  },
  {
   "cell_type": "markdown",
   "metadata": {},
   "source": [
    "Cada elemento en la lista tiene un índice, que se usa para poder acceder a dicho elemento. Dado que las listas son ordenadas, los índices se van asignando secuencialmente desde el primer elemento hasta el último. El primer índice es siempre `0`, y por lo tanto el último índice es siempre `n - 1`, donde `n` es el número total de elementos en la lista."
   ]
  },
  {
   "cell_type": "markdown",
   "metadata": {},
   "source": [
    "Por lo tanto, para acceder al primer y al último elemento de la lista anterior, hacemos lo siguiente: "
   ]
  },
  {
   "cell_type": "code",
   "execution_count": 1,
   "metadata": {},
   "outputs": [],
   "source": [
    "# primer elemento"
   ]
  },
  {
   "cell_type": "code",
   "execution_count": 2,
   "metadata": {},
   "outputs": [],
   "source": [
    "# último elemento contanto los elementos"
   ]
  },
  {
   "cell_type": "markdown",
   "metadata": {},
   "source": [
    "Si intentamos acceder a un índice que no existe, porque no hay suficientes elementos en la lista, Python nos da un error:"
   ]
  },
  {
   "cell_type": "code",
   "execution_count": 3,
   "metadata": {},
   "outputs": [],
   "source": [
    "# índice que no existe"
   ]
  },
  {
   "cell_type": "markdown",
   "metadata": {},
   "source": [
    "Dado que es difícil saber cuántos elementos hay en una lista, a menos que nos pongamos a contar, hay algo que podemos hacer para acceder a los últimos elementos de una lista sin arriesgarnos a tener un error:"
   ]
  },
  {
   "cell_type": "markdown",
   "metadata": {},
   "source": [
    "- Python nos permite acceder a los elementos empezando desde el último elemento hasta el primero (al revés, pues). Esto se hace usando números negativos. O sea que para acceder al último número puedo usar un `-1`, para acceder al penúltimo número puedo usar `-2` y así consecutivamente:"
   ]
  },
  {
   "cell_type": "code",
   "execution_count": 4,
   "metadata": {},
   "outputs": [],
   "source": [
    "# último elemento al estilo Python"
   ]
  },
  {
   "cell_type": "code",
   "execution_count": 5,
   "metadata": {},
   "outputs": [],
   "source": [
    "# penúltimo elemento"
   ]
  },
  {
   "cell_type": "markdown",
   "metadata": {},
   "source": [
    "Como podrás imaginar, no solamente podemos guardar datos crudos en una lista (`1, 2, 3, 4, etc`). Podemos guardar datos en variables y luego guardar esas variables en la lista. Las siguientes dos listas son equivalentes:"
   ]
  },
  {
   "cell_type": "code",
   "execution_count": 6,
   "metadata": {},
   "outputs": [],
   "source": [
    "uno = 1\n",
    "dos = 2\n",
    "tres = 3\n",
    "cuatro = 4\n",
    "cinco = 5"
   ]
  },
  {
   "cell_type": "code",
   "execution_count": 7,
   "metadata": {},
   "outputs": [],
   "source": [
    "# crea la lista con las variables"
   ]
  },
  {
   "cell_type": "markdown",
   "metadata": {},
   "source": [
    "#### Tipos de datos en una lista\n",
    "\n",
    "Como vimos en el Prework, una lista puede contener cualquier tipo de dato de los que ya conocemos (incluso otras listas)."
   ]
  },
  {
   "cell_type": "code",
   "execution_count": 3,
   "metadata": {},
   "outputs": [],
   "source": [
    "lista_de_ints = \n",
    "lista_de_floats = \n",
    "lista_de_strings = \n",
    "lista_de_booleanos = \n",
    "lista_de_listas_de_ints = "
   ]
  },
  {
   "cell_type": "code",
   "execution_count": 5,
   "metadata": {},
   "outputs": [
    {
     "data": {
      "text/plain": [
       "4"
      ]
     },
     "execution_count": 5,
     "metadata": {},
     "output_type": "execute_result"
    }
   ],
   "source": [
    "lista_de_listas_de_ints[2][0]"
   ]
  },
  {
   "cell_type": "markdown",
   "metadata": {},
   "source": [
    "A pesar de que Python nos permite guardar diversos tipos de datos en una sola lista, aprendimos que la mejor práctica es evitar esto y guardar un solo tipo de dato por lista"
   ]
  },
  {
   "cell_type": "code",
   "execution_count": null,
   "metadata": {},
   "outputs": [],
   "source": [
    "¡Vayamos a nuestro primer reto!"
   ]
  }
 ],
 "metadata": {
  "kernelspec": {
   "display_name": "Python 3",
   "language": "python",
   "name": "python3"
  },
  "language_info": {
   "codemirror_mode": {
    "name": "ipython",
    "version": 3
   },
   "file_extension": ".py",
   "mimetype": "text/x-python",
   "name": "python",
   "nbconvert_exporter": "python",
   "pygments_lexer": "ipython3",
<<<<<<< HEAD
   "version": "3.8.2"
=======
   "version": "3.7.4"
>>>>>>> 32cbad731d0c849ff565266de16a63785eee436c
  }
 },
 "nbformat": 4,
 "nbformat_minor": 4
}
