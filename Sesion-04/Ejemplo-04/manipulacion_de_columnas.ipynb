{
 "cells": [
  {
   "cell_type": "markdown",
   "metadata": {},
   "source": [
    "## Ejemplo 4: Manipulación de columnas\n",
    "\n",
    "### 1. Objetivos:\n",
    "    - Aprender a crear nuevas columnas en un `DataFrame`\n",
    "    - Aprender a reasignar columnas\n",
    "    - Aprender a eliminar columnas\n",
    " \n",
    "---\n",
    "    \n",
    "### 2. Desarrollo:"
   ]
  },
  {
   "cell_type": "code",
   "execution_count": 1,
   "metadata": {},
   "outputs": [],
   "source": [
    "import pandas as pd"
   ]
  },
  {
   "cell_type": "markdown",
   "metadata": {},
   "source": [
    "Tenemos aquí un `DataFrame`:"
   ]
  },
  {
   "cell_type": "code",
   "execution_count": 2,
   "metadata": {},
   "outputs": [
    {
     "data": {
      "text/html": [
       "<div>\n",
       "<style scoped>\n",
       "    .dataframe tbody tr th:only-of-type {\n",
       "        vertical-align: middle;\n",
       "    }\n",
       "\n",
       "    .dataframe tbody tr th {\n",
       "        vertical-align: top;\n",
       "    }\n",
       "\n",
       "    .dataframe thead th {\n",
       "        text-align: right;\n",
       "    }\n",
       "</style>\n",
       "<table border=\"1\" class=\"dataframe\">\n",
       "  <thead>\n",
       "    <tr style=\"text-align: right;\">\n",
       "      <th></th>\n",
       "      <th>Nombre</th>\n",
       "      <th>Cereal favorito</th>\n",
       "      <th>Hora del desayuno</th>\n",
       "    </tr>\n",
       "  </thead>\n",
       "  <tbody>\n",
       "    <tr>\n",
       "      <th>0</th>\n",
       "      <td>Pepinillo Hernández</td>\n",
       "      <td>Korn Floks</td>\n",
       "      <td>11:00</td>\n",
       "    </tr>\n",
       "    <tr>\n",
       "      <th>1</th>\n",
       "      <td>Lúpulo de Dios</td>\n",
       "      <td>Verdurinis</td>\n",
       "      <td>07:30</td>\n",
       "    </tr>\n",
       "    <tr>\n",
       "      <th>2</th>\n",
       "      <td>Juan Juon</td>\n",
       "      <td>Zumbaritas</td>\n",
       "      <td>07:00</td>\n",
       "    </tr>\n",
       "    <tr>\n",
       "      <th>3</th>\n",
       "      <td>Jimmy el Patatas</td>\n",
       "      <td>Diabetukis, Papá</td>\n",
       "      <td>08:30</td>\n",
       "    </tr>\n",
       "    <tr>\n",
       "      <th>4</th>\n",
       "      <td>Lorenzo Retaguardias</td>\n",
       "      <td>Fibra Máxima 3000</td>\n",
       "      <td>09:30</td>\n",
       "    </tr>\n",
       "  </tbody>\n",
       "</table>\n",
       "</div>"
      ],
      "text/plain": [
       "                 Nombre    Cereal favorito Hora del desayuno\n",
       "0   Pepinillo Hernández         Korn Floks             11:00\n",
       "1        Lúpulo de Dios         Verdurinis             07:30\n",
       "2             Juan Juon         Zumbaritas             07:00\n",
       "3      Jimmy el Patatas   Diabetukis, Papá             08:30\n",
       "4  Lorenzo Retaguardias  Fibra Máxima 3000             09:30"
      ]
     },
     "execution_count": 2,
     "metadata": {},
     "output_type": "execute_result"
    }
   ],
   "source": [
    "datos = {\n",
    "    \"Nombre\": [\"Pepinillo Hernández\", \"Lúpulo de Dios\", \"Juan Juon\", \"Jimmy el Patatas\",\n",
    "        \"Lorenzo Retaguardias\"],\n",
    "    \"Cereal favorito\": [\"Korn Floks\", \"Verdurinis\", \"Zumbaritas\", \"Diabetukis, Papá\",\n",
    "        \"Fibra Máxima 3000\"],\n",
    "    \"Hora del desayuno\": [\"11:00\", \"07:30\", \"07:00\", \"08:30\", \"09:30\"]\n",
    "}\n",
    "\n",
    "df = pd.DataFrame(datos)\n",
    "df"
   ]
  },
  {
   "cell_type": "markdown",
   "metadata": {},
   "source": [
    "Agregar una nueva columna de `Frutas` con los valores `[\"Pera\", \"Manzana\", \"Plátano\", \"Guayaba\",\"Pizza\"]` haciendo uso de una Serie:\n",
    "\n",
    "`variable_dataframe[-nombre de columna-] = ps.Series(-lista de valores-)`"
   ]
  },
  {
   "cell_type": "code",
   "execution_count": 3,
   "metadata": {},
   "outputs": [
    {
     "data": {
      "text/html": [
       "<div>\n",
       "<style scoped>\n",
       "    .dataframe tbody tr th:only-of-type {\n",
       "        vertical-align: middle;\n",
       "    }\n",
       "\n",
       "    .dataframe tbody tr th {\n",
       "        vertical-align: top;\n",
       "    }\n",
       "\n",
       "    .dataframe thead th {\n",
       "        text-align: right;\n",
       "    }\n",
       "</style>\n",
       "<table border=\"1\" class=\"dataframe\">\n",
       "  <thead>\n",
       "    <tr style=\"text-align: right;\">\n",
       "      <th></th>\n",
       "      <th>Nombre</th>\n",
       "      <th>Cereal favorito</th>\n",
       "      <th>Hora del desayuno</th>\n",
       "      <th>Frutas</th>\n",
       "    </tr>\n",
       "  </thead>\n",
       "  <tbody>\n",
       "    <tr>\n",
       "      <th>0</th>\n",
       "      <td>Pepinillo Hernández</td>\n",
       "      <td>Korn Floks</td>\n",
       "      <td>11:00</td>\n",
       "      <td>Pera</td>\n",
       "    </tr>\n",
       "    <tr>\n",
       "      <th>1</th>\n",
       "      <td>Lúpulo de Dios</td>\n",
       "      <td>Verdurinis</td>\n",
       "      <td>07:30</td>\n",
       "      <td>Manzana</td>\n",
       "    </tr>\n",
       "    <tr>\n",
       "      <th>2</th>\n",
       "      <td>Juan Juon</td>\n",
       "      <td>Zumbaritas</td>\n",
       "      <td>07:00</td>\n",
       "      <td>Plátano</td>\n",
       "    </tr>\n",
       "    <tr>\n",
       "      <th>3</th>\n",
       "      <td>Jimmy el Patatas</td>\n",
       "      <td>Diabetukis, Papá</td>\n",
       "      <td>08:30</td>\n",
       "      <td>Guayaba</td>\n",
       "    </tr>\n",
       "    <tr>\n",
       "      <th>4</th>\n",
       "      <td>Lorenzo Retaguardias</td>\n",
       "      <td>Fibra Máxima 3000</td>\n",
       "      <td>09:30</td>\n",
       "      <td>Pizza</td>\n",
       "    </tr>\n",
       "  </tbody>\n",
       "</table>\n",
       "</div>"
      ],
      "text/plain": [
       "                 Nombre    Cereal favorito Hora del desayuno   Frutas\n",
       "0   Pepinillo Hernández         Korn Floks             11:00     Pera\n",
       "1        Lúpulo de Dios         Verdurinis             07:30  Manzana\n",
       "2             Juan Juon         Zumbaritas             07:00  Plátano\n",
       "3      Jimmy el Patatas   Diabetukis, Papá             08:30  Guayaba\n",
       "4  Lorenzo Retaguardias  Fibra Máxima 3000             09:30    Pizza"
      ]
     },
     "execution_count": 3,
     "metadata": {},
     "output_type": "execute_result"
    }
   ],
   "source": [
    "df[\"Frutas\"] = pd.Series([\"Pera\", \"Manzana\", \"Plátano\", \"Guayaba\",\"Pizza\"])\n",
    "\n",
    "df"
   ]
  },
  {
   "cell_type": "markdown",
   "metadata": {},
   "source": [
    "También es posible modificar los valores de las horas del desayuno por:\n",
    "\n",
    "    \"10:30\", \"06:30\", \"06:00\", \"07:00\", \"08:00\"\n",
    "    \n",
    "Se usa la misma forma, sólo que en este caso se usa el nombre de una columna que ya existía para remplazar sus valores:"
   ]
  },
  {
   "cell_type": "code",
   "execution_count": 4,
   "metadata": {},
   "outputs": [
    {
     "data": {
      "text/html": [
       "<div>\n",
       "<style scoped>\n",
       "    .dataframe tbody tr th:only-of-type {\n",
       "        vertical-align: middle;\n",
       "    }\n",
       "\n",
       "    .dataframe tbody tr th {\n",
       "        vertical-align: top;\n",
       "    }\n",
       "\n",
       "    .dataframe thead th {\n",
       "        text-align: right;\n",
       "    }\n",
       "</style>\n",
       "<table border=\"1\" class=\"dataframe\">\n",
       "  <thead>\n",
       "    <tr style=\"text-align: right;\">\n",
       "      <th></th>\n",
       "      <th>Nombre</th>\n",
       "      <th>Cereal favorito</th>\n",
       "      <th>Hora del desayuno</th>\n",
       "      <th>Frutas</th>\n",
       "    </tr>\n",
       "  </thead>\n",
       "  <tbody>\n",
       "    <tr>\n",
       "      <th>0</th>\n",
       "      <td>Pepinillo Hernández</td>\n",
       "      <td>Korn Floks</td>\n",
       "      <td>10:30</td>\n",
       "      <td>Pera</td>\n",
       "    </tr>\n",
       "    <tr>\n",
       "      <th>1</th>\n",
       "      <td>Lúpulo de Dios</td>\n",
       "      <td>Verdurinis</td>\n",
       "      <td>06:30</td>\n",
       "      <td>Manzana</td>\n",
       "    </tr>\n",
       "    <tr>\n",
       "      <th>2</th>\n",
       "      <td>Juan Juon</td>\n",
       "      <td>Zumbaritas</td>\n",
       "      <td>06:00</td>\n",
       "      <td>Plátano</td>\n",
       "    </tr>\n",
       "    <tr>\n",
       "      <th>3</th>\n",
       "      <td>Jimmy el Patatas</td>\n",
       "      <td>Diabetukis, Papá</td>\n",
       "      <td>07:00</td>\n",
       "      <td>Guayaba</td>\n",
       "    </tr>\n",
       "    <tr>\n",
       "      <th>4</th>\n",
       "      <td>Lorenzo Retaguardias</td>\n",
       "      <td>Fibra Máxima 3000</td>\n",
       "      <td>08:00</td>\n",
       "      <td>Pizza</td>\n",
       "    </tr>\n",
       "  </tbody>\n",
       "</table>\n",
       "</div>"
      ],
      "text/plain": [
       "                 Nombre    Cereal favorito Hora del desayuno   Frutas\n",
       "0   Pepinillo Hernández         Korn Floks             10:30     Pera\n",
       "1        Lúpulo de Dios         Verdurinis             06:30  Manzana\n",
       "2             Juan Juon         Zumbaritas             06:00  Plátano\n",
       "3      Jimmy el Patatas   Diabetukis, Papá             07:00  Guayaba\n",
       "4  Lorenzo Retaguardias  Fibra Máxima 3000             08:00    Pizza"
      ]
     },
     "execution_count": 4,
     "metadata": {},
     "output_type": "execute_result"
    }
   ],
   "source": [
    "df[\"Hora del desayuno\"] = pd.Series([\"10:30\", \"06:30\", \"06:00\", \"07:00\", \"08:00\"])\n",
    "\n",
    "df"
   ]
  },
  {
   "cell_type": "markdown",
   "metadata": {},
   "source": [
    "Ahora, para eliminar la columna de `Frutas` se hace uso de la forma:\n",
    "\n",
    "`variable_dataframe.drop(columns=-lista de columnas a borrar-)`"
   ]
  },
  {
   "cell_type": "code",
   "execution_count": null,
   "metadata": {},
   "outputs": [],
   "source": [
    "df.drop?"
   ]
  },
  {
   "cell_type": "code",
   "execution_count": 7,
   "metadata": {},
   "outputs": [
    {
     "data": {
      "text/html": [
       "<div>\n",
       "<style scoped>\n",
       "    .dataframe tbody tr th:only-of-type {\n",
       "        vertical-align: middle;\n",
       "    }\n",
       "\n",
       "    .dataframe tbody tr th {\n",
       "        vertical-align: top;\n",
       "    }\n",
       "\n",
       "    .dataframe thead th {\n",
       "        text-align: right;\n",
       "    }\n",
       "</style>\n",
       "<table border=\"1\" class=\"dataframe\">\n",
       "  <thead>\n",
       "    <tr style=\"text-align: right;\">\n",
       "      <th></th>\n",
       "      <th>Nombre</th>\n",
       "      <th>Cereal favorito</th>\n",
       "      <th>Hora del desayuno</th>\n",
       "      <th>Frutas</th>\n",
       "    </tr>\n",
       "  </thead>\n",
       "  <tbody>\n",
       "    <tr>\n",
       "      <th>0</th>\n",
       "      <td>Pepinillo Hernández</td>\n",
       "      <td>Korn Floks</td>\n",
       "      <td>10:30</td>\n",
       "      <td>Pera</td>\n",
       "    </tr>\n",
       "    <tr>\n",
       "      <th>1</th>\n",
       "      <td>Lúpulo de Dios</td>\n",
       "      <td>Verdurinis</td>\n",
       "      <td>06:30</td>\n",
       "      <td>Manzana</td>\n",
       "    </tr>\n",
       "    <tr>\n",
       "      <th>2</th>\n",
       "      <td>Juan Juon</td>\n",
       "      <td>Zumbaritas</td>\n",
       "      <td>06:00</td>\n",
       "      <td>Plátano</td>\n",
       "    </tr>\n",
       "    <tr>\n",
       "      <th>3</th>\n",
       "      <td>Jimmy el Patatas</td>\n",
       "      <td>Diabetukis, Papá</td>\n",
       "      <td>07:00</td>\n",
       "      <td>Guayaba</td>\n",
       "    </tr>\n",
       "    <tr>\n",
       "      <th>4</th>\n",
       "      <td>Lorenzo Retaguardias</td>\n",
       "      <td>Fibra Máxima 3000</td>\n",
       "      <td>08:00</td>\n",
       "      <td>Pizza</td>\n",
       "    </tr>\n",
       "  </tbody>\n",
       "</table>\n",
       "</div>"
      ],
      "text/plain": [
       "                 Nombre    Cereal favorito Hora del desayuno   Frutas\n",
       "0   Pepinillo Hernández         Korn Floks             10:30     Pera\n",
       "1        Lúpulo de Dios         Verdurinis             06:30  Manzana\n",
       "2             Juan Juon         Zumbaritas             06:00  Plátano\n",
       "3      Jimmy el Patatas   Diabetukis, Papá             07:00  Guayaba\n",
       "4  Lorenzo Retaguardias  Fibra Máxima 3000             08:00    Pizza"
      ]
     },
     "execution_count": 7,
     "metadata": {},
     "output_type": "execute_result"
    }
   ],
   "source": [
    "df.drop(columns=[\"Frutas\"])\n",
    "df"
   ]
  },
  {
   "cell_type": "markdown",
   "metadata": {},
   "source": [
    "Recuerda que estos métodos sólo regresan \"vistas\". Para que el cambio permanezca, tenemos que asignar el resultado de la operación a la variable `df` o a alguna otra variable:"
   ]
  },
  {
   "cell_type": "code",
   "execution_count": 8,
   "metadata": {},
   "outputs": [
    {
     "data": {
      "text/html": [
       "<div>\n",
       "<style scoped>\n",
       "    .dataframe tbody tr th:only-of-type {\n",
       "        vertical-align: middle;\n",
       "    }\n",
       "\n",
       "    .dataframe tbody tr th {\n",
       "        vertical-align: top;\n",
       "    }\n",
       "\n",
       "    .dataframe thead th {\n",
       "        text-align: right;\n",
       "    }\n",
       "</style>\n",
       "<table border=\"1\" class=\"dataframe\">\n",
       "  <thead>\n",
       "    <tr style=\"text-align: right;\">\n",
       "      <th></th>\n",
       "      <th>Nombre</th>\n",
       "      <th>Cereal favorito</th>\n",
       "      <th>Hora del desayuno</th>\n",
       "    </tr>\n",
       "  </thead>\n",
       "  <tbody>\n",
       "    <tr>\n",
       "      <th>0</th>\n",
       "      <td>Pepinillo Hernández</td>\n",
       "      <td>Korn Floks</td>\n",
       "      <td>10:30</td>\n",
       "    </tr>\n",
       "    <tr>\n",
       "      <th>1</th>\n",
       "      <td>Lúpulo de Dios</td>\n",
       "      <td>Verdurinis</td>\n",
       "      <td>06:30</td>\n",
       "    </tr>\n",
       "    <tr>\n",
       "      <th>2</th>\n",
       "      <td>Juan Juon</td>\n",
       "      <td>Zumbaritas</td>\n",
       "      <td>06:00</td>\n",
       "    </tr>\n",
       "    <tr>\n",
       "      <th>3</th>\n",
       "      <td>Jimmy el Patatas</td>\n",
       "      <td>Diabetukis, Papá</td>\n",
       "      <td>07:00</td>\n",
       "    </tr>\n",
       "    <tr>\n",
       "      <th>4</th>\n",
       "      <td>Lorenzo Retaguardias</td>\n",
       "      <td>Fibra Máxima 3000</td>\n",
       "      <td>08:00</td>\n",
       "    </tr>\n",
       "  </tbody>\n",
       "</table>\n",
       "</div>"
      ],
      "text/plain": [
       "                 Nombre    Cereal favorito Hora del desayuno\n",
       "0   Pepinillo Hernández         Korn Floks             10:30\n",
       "1        Lúpulo de Dios         Verdurinis             06:30\n",
       "2             Juan Juon         Zumbaritas             06:00\n",
       "3      Jimmy el Patatas   Diabetukis, Papá             07:00\n",
       "4  Lorenzo Retaguardias  Fibra Máxima 3000             08:00"
      ]
     },
     "execution_count": 8,
     "metadata": {},
     "output_type": "execute_result"
    }
   ],
   "source": [
    "df_sin_frutas = df.drop(columns=[\"Frutas\"])\n",
    "df_sin_frutas"
   ]
  },
  {
   "cell_type": "markdown",
   "metadata": {},
   "source": [
    "---\n",
    "---\n",
    "## Reto 4: Manipulación de Columnas\n",
    "\n",
    "### 1. Objetivos:\n",
    "    - Practicar asignar, reasignar y eliminar columnas de `DataFrames`\n",
    " \n",
    "---\n",
    "    \n",
    "### 2. Desarrollo:"
   ]
  },
  {
   "cell_type": "markdown",
   "metadata": {},
   "source": [
    "a) Transformación de `DataFrames`\n",
    "\n",
    "Eres de nuevo el Data Wrangler Inc. Tienes el mismo conjunto de datos que en el Reto pasado:"
   ]
  },
  {
   "cell_type": "code",
   "execution_count": null,
   "metadata": {},
   "outputs": [],
   "source": [
    "datos_productos = {\n",
    "    \"nombre\": [\"Pokemaster\", \"Cegatron\", \"Pikame Mucho\", \"Lazarillo de Tormes\", \"Stevie Wonder\", \"Needle\", \"El AyMeDuele\"],\n",
    "    \"precio\": [10000, 5500, 3500, 750, 15500, 12250, 23000],\n",
    "    \"peso\": [1.2, 1.5, 2.3, 5.5, 3.4, 2.4, 8.8],\n",
    "    \"capacidad de destrucción retinal\": [3, 7, 6, 8, 9, 2, 10],\n",
    "    \"disponible\": [True, False, True, True, False, False, True]\n",
    "}\n",
    "\n",
    "indice = [1, 2, 3, 4, 5, 6, 7]"
   ]
  },
  {
   "cell_type": "markdown",
   "metadata": {},
   "source": [
    "Esta vez el Analista de Datos te hace 3 nuevos pedidos que incluyen la creación de una nueva columna, la asignación de nuevos datos a una columna y la eliminación de un par de columnas.\n",
    "\n",
    "Crea un `DataFrame` usando `datos_productos` e `indice` y realiza sus pedidos."
   ]
  },
  {
   "cell_type": "code",
   "execution_count": null,
   "metadata": {},
   "outputs": [],
   "source": [
    "...\n",
    "\n",
    "df_productos"
   ]
  },
  {
   "cell_type": "code",
   "execution_count": null,
   "metadata": {},
   "outputs": [],
   "source": [
    "# Agrega por favor una columna con el nombre\n",
    "# \"nivel de dolor\" a `df_procutos_2` con los\n",
    "# valores de columna_nueva\n",
    "columna_nueva = [4, 7, 6, 8, 9, 7, 3]\n",
    "df_productos_2 = df_productos.copy()\n",
    "\n",
    "...\n",
    "\n",
    "df_productos_2"
   ]
  },
  {
   "cell_type": "code",
   "execution_count": null,
   "metadata": {},
   "outputs": [],
   "source": [
    "# Modifica por favor el DataFrame `df_productos_3`\n",
    "# cambiando la columna `precio` por la información\n",
    "# contenida en `precios_descuento`\n",
    "precios_descuento = [8000, 4000, 2000, 500, 14000, 10000, 15000]\n",
    "df_productos_3 = df_productos.copy()\n",
    "\n",
    "...\n",
    "\n",
    "df_productos_3"
   ]
  },
  {
   "cell_type": "code",
   "execution_count": null,
   "metadata": {},
   "outputs": [],
   "source": [
    "# Elimina por favor las columnas \"precio\" y \"peso\"\n",
    "# de `df_productos` y asigna el resultado a\n",
    "# `df_productos_4`\n",
    "...\n",
    "\n",
    "df_productos_4"
   ]
  },
  {
   "cell_type": "markdown",
   "metadata": {},
   "source": [
    "A continuación la celda de verificación ..."
   ]
  },
  {
   "cell_type": "code",
   "execution_count": null,
   "metadata": {},
   "outputs": [],
   "source": [
    "def verificar_modificaciones(datos_productos, indice, df_productos, columna_nueva, df_productos_mas_columna_nueva, \n",
    "                             precios_descuento, df_productos_descuento, df_productos_sin_precio_ni_peso):\n",
    "    \n",
    "    import pandas as pd\n",
    "    datos1 = [112, 100, 46, 68, 97, 116, 97, 70, 114, 97, 109, 101, 40, 100, 97, 116, 111, 115, 95, 112, 114, 111, 100, 117, 99, 116, 111, 115, 44, 32, 105, 110, 100, 101, 120, 61, 105, 110, 100, 105, 99, 101, 41]\n",
    "    df_productos_esperado = eval(\"\".join([chr(x) for x in datos1]))\n",
    "    if not df_productos_esperado.equals(df_productos):\n",
    "        print(f'df_productos ha sido creado incorrectamente ... Favor de revisar')\n",
    "        return\n",
    "    \n",
    "    print(f'== Verificación de Modificaciones ==\\n')\n",
    "    datos2 = [10, 99, 111, 108, 117, 109, 110, 97, 95, 110, 117, 101, 118, 97, 95, 115, 101, 114, 105, 101, 32, 61, 32, 112, 100, 46, 83, 101, 114, 105, 101, 115, 40, 99, 111, 108, 117, 109, 110, 97, 95, 110, 117, 101, 118, 97, 44, 32, 105, 110, 100, 101, 120, 61, 105, 110, 100, 105, 99, 101, 41, 10, 100, 102, 95, 112, 114, 111, 100, 117, 99, 116, 111, 115, 95, 109, 97, 115, 95, 99, 111, 108, 117, 109, 110, 97, 95, 110, 117, 101, 118, 97, 95, 50, 32, 61, 32, 100, 102, 95, 112, 114, 111, 100, 117, 99, 116, 111, 115, 46, 99, 111, 112, 121, 40, 41, 10, 100, 102, 95, 112, 114, 111, 100, 117, 99, 116, 111, 115, 95, 109, 97, 115, 95, 99, 111, 108, 117, 109, 110, 97, 95, 110, 117, 101, 118, 97, 95, 50, 91, 39, 110, 105, 118, 101, 108, 32, 100, 101, 32, 100, 111, 108, 111, 114, 39, 93, 32, 61, 32, 99, 111, 108, 117, 109, 110, 97, 95, 110, 117, 101, 118, 97, 95, 115, 101, 114, 105, 101, 10, 112, 114, 101, 99, 105, 111, 115, 95, 100, 101, 115, 99, 117, 101, 110, 116, 111, 95, 115, 101, 114, 105, 101, 32, 61, 32, 112, 100, 46, 83, 101, 114, 105, 101, 115, 40, 112, 114, 101, 99, 105, 111, 115, 95, 100, 101, 115, 99, 117, 101, 110, 116, 111, 44, 32, 105, 110, 100, 101, 120, 61, 105, 110, 100, 105, 99, 101, 41, 10, 100, 102, 95, 112, 114, 111, 100, 117, 99, 116, 111, 115, 95, 100, 101, 115, 99, 117, 101, 110, 116, 111, 95, 50, 32, 61, 32, 100, 102, 95, 112, 114, 111, 100, 117, 99, 116, 111, 115, 46, 99, 111, 112, 121, 40, 41, 10, 100, 102, 95, 112, 114, 111, 100, 117, 99, 116, 111, 115, 95, 100, 101, 115, 99, 117, 101, 110, 116, 111, 95, 50, 91, 39, 112, 114, 101, 99, 105, 111, 39, 93, 32, 61, 32, 112, 114, 101, 99, 105, 111, 115, 95, 100, 101, 115, 99, 117, 101, 110, 116, 111, 95, 115, 101, 114, 105, 101, 10, 100, 102, 95, 112, 114, 111, 100, 117, 99, 116, 111, 115, 95, 115, 105, 110, 95, 112, 114, 101, 99, 105, 111, 95, 110, 105, 95, 112, 101, 115, 111, 95, 50, 32, 61, 32, 100, 102, 95, 112, 114, 111, 100, 117, 99, 116, 111, 115, 46, 100, 114, 111, 112, 40, 99, 111, 108, 117, 109, 110, 115, 61, 91, 39, 112, 114, 101, 99, 105, 111, 39, 44, 32, 39, 112, 101, 115, 111, 39, 93, 41, 10, 32, 32, 32, 32]\n",
    "    eval(compile(\"\".join([chr(x) for x in datos2]), \"\", \"exec\"), globals() )\n",
    "    \n",
    "    verificar_modificacion(df_productos_mas_columna_nueva_2, df_productos_mas_columna_nueva, 'Agrega por favor columna `columna_nueva` a `df_productos_mas_columna_nueva` con el nombre de columna \"nivel de dolor\"')    \n",
    "    verificar_modificacion(df_productos_descuento_2, df_productos_descuento, 'Cambia por favor el `DataFrame` `df_productos_descuento` cambiando la columna `precio` por la información contenida en `precios_descuento`')\n",
    "    verificar_modificacion(df_productos_sin_precio_ni_peso_2, df_productos_sin_precio_ni_peso, 'Elimina por favor las columnas \"precio\" y \"peso\"')\n",
    "    \n",
    "def verificar_modificacion(esperada, recibida, descripcion):\n",
    "    es_correcta = \"Correcto\" if esperada.equals(recibida) else \"Incorrecto\"\n",
    "    respuesta = \"Muchas gracias!\" if es_correcta == \"Correcto\" else \"Favor de revisar\"\n",
    "    print(f\"\\n- Descripción de pedido: {descripcion}\")\n",
    "    print(f\"El pedido es {es_correcta} ... {respuesta}\")\n",
    "    \n",
    "verificar_modificaciones(datos_productos, indice, df_productos, columna_nueva, df_productos_2, \n",
    "                             precios_descuento, df_productos_3, df_productos_4)"
   ]
  }
 ],
 "metadata": {
  "kernelspec": {
   "display_name": "Python 3",
   "language": "python",
   "name": "python3"
  },
  "language_info": {
   "codemirror_mode": {
    "name": "ipython",
    "version": 3
   },
   "file_extension": ".py",
   "mimetype": "text/x-python",
   "name": "python",
   "nbconvert_exporter": "python",
   "pygments_lexer": "ipython3",
   "version": "3.8.2"
  }
 },
 "nbformat": 4,
 "nbformat_minor": 4
}
